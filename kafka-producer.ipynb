{
 "cells": [
  {
   "cell_type": "code",
   "execution_count": null,
   "id": "8b8c6ed1",
   "metadata": {},
   "outputs": [],
   "source": [
    "import pandas as pd\n",
    "from kafka import KafkaProducer\n",
    "from time import sleep\n",
    "from json import dumps\n",
    "import json"
   ]
  },
  {
   "cell_type": "code",
   "execution_count": null,
   "id": "57203c72",
   "metadata": {},
   "outputs": [],
   "source": [
    "producer = KafkaProducer(bootstrap_servers=['13.49.77.1:9092'],                       \n",
    "                         value_serializer=lambda x: \n",
    "                         dumps(x).encode('utf-8'))"
   ]
  },
  {
   "cell_type": "code",
   "execution_count": null,
   "id": "e1799861",
   "metadata": {},
   "outputs": [],
   "source": [
    "# producer.send('demo_test',value={'hello':'mudit!'})"
   ]
  },
  {
   "cell_type": "code",
   "execution_count": null,
   "id": "0e43673e",
   "metadata": {},
   "outputs": [],
   "source": [
    "### here we can get our data from some api (I am using data from a .csv file)"
   ]
  },
  {
   "cell_type": "code",
   "execution_count": null,
   "id": "09340051",
   "metadata": {},
   "outputs": [],
   "source": [
    "df= pd.read_csv('indexProcessed.csv')"
   ]
  },
  {
   "cell_type": "code",
   "execution_count": null,
   "id": "a9f2979e",
   "metadata": {},
   "outputs": [],
   "source": [
    "### code to send data to consumer in real-time"
   ]
  },
  {
   "cell_type": "code",
   "execution_count": null,
   "id": "239b2712",
   "metadata": {},
   "outputs": [],
   "source": [
    "while True:\n",
    "    dict_stock=df.sample(1).to_dict(orient=\"records\")[0]\n",
    "    producer.send('demo_test',value=dict_stock)\n",
    "    sleep(1)"
   ]
  },
  {
   "cell_type": "code",
   "execution_count": null,
   "id": "4fea0013",
   "metadata": {},
   "outputs": [],
   "source": [
    "producer.flush()"
   ]
  }
 ],
 "metadata": {
  "kernelspec": {
   "display_name": "Python 3 (ipykernel)",
   "language": "python",
   "name": "python3"
  },
  "language_info": {
   "codemirror_mode": {
    "name": "ipython",
    "version": 3
   },
   "file_extension": ".py",
   "mimetype": "text/x-python",
   "name": "python",
   "nbconvert_exporter": "python",
   "pygments_lexer": "ipython3",
   "version": "3.9.13"
  }
 },
 "nbformat": 4,
 "nbformat_minor": 5
}
